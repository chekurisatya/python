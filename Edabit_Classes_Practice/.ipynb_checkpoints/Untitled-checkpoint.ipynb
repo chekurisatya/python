{
 "cells": [
  {
   "cell_type": "code",
   "execution_count": 3,
   "id": "45453377-51ef-481f-b66f-b6d89a0cebfa",
   "metadata": {},
   "outputs": [],
   "source": [
    "class ones_threes_nines():\n",
    "    def __init__(self, num):\n",
    "        self.nines = int(num/9)\n",
    "        self.ones = int(num/1)\n",
    "        self.threes = int(num/3)"
   ]
  },
  {
   "cell_type": "code",
   "execution_count": 4,
   "id": "7c49f45c-4a5d-4400-af7c-ec46fb3f82b6",
   "metadata": {},
   "outputs": [],
   "source": [
    "n1 = ones_threes_nines(0)"
   ]
  },
  {
   "cell_type": "code",
   "execution_count": 5,
   "id": "d33be4d4-b932-4b3e-b81a-ce90e9cce287",
   "metadata": {},
   "outputs": [
    {
     "data": {
      "text/plain": [
       "0"
      ]
     },
     "execution_count": 5,
     "metadata": {},
     "output_type": "execute_result"
    }
   ],
   "source": [
    "n1.ones"
   ]
  },
  {
   "cell_type": "code",
   "execution_count": 6,
   "id": "27eea26f-9df2-49ea-a95c-18146d69b964",
   "metadata": {},
   "outputs": [],
   "source": [
    "n2 = ones_threes_nines(1)\n",
    "n3 = ones_threes_nines(2)\n",
    "n4 = ones_threes_nines(3)\n",
    "n5 = ones_threes_nines(4)\n",
    "n6 = ones_threes_nines(10)\n",
    "n7 = ones_threes_nines(13)\n",
    "n8 = ones_threes_nines(15)\n",
    "n9 = ones_threes_nines(17)\n",
    "n10 = ones_threes_nines(20)\n"
   ]
  },
  {
   "cell_type": "code",
   "execution_count": 7,
   "id": "e5c098fa-98cc-46d2-875a-1b053e0f51a6",
   "metadata": {},
   "outputs": [
    {
     "data": {
      "text/plain": [
       "2"
      ]
     },
     "execution_count": 7,
     "metadata": {},
     "output_type": "execute_result"
    }
   ],
   "source": [
    "n10.nines"
   ]
  },
  {
   "cell_type": "code",
   "execution_count": 8,
   "id": "8536cf2e-ee2e-4108-9e37-d4d8c9833cab",
   "metadata": {},
   "outputs": [
    {
     "data": {
      "text/plain": [
       "1"
      ]
     },
     "execution_count": 8,
     "metadata": {},
     "output_type": "execute_result"
    }
   ],
   "source": [
    "n9.nines"
   ]
  },
  {
   "cell_type": "code",
   "execution_count": 9,
   "id": "3a35bd32-9577-4c97-b832-4353a5179bfc",
   "metadata": {},
   "outputs": [
    {
     "data": {
      "text/plain": [
       "5"
      ]
     },
     "execution_count": 9,
     "metadata": {},
     "output_type": "execute_result"
    }
   ],
   "source": [
    "n8.threes"
   ]
  },
  {
   "cell_type": "code",
   "execution_count": 10,
   "id": "606519d7-9beb-4af9-a233-f3a9cd66b4d8",
   "metadata": {},
   "outputs": [
    {
     "data": {
      "text/plain": [
       "13"
      ]
     },
     "execution_count": 10,
     "metadata": {},
     "output_type": "execute_result"
    }
   ],
   "source": [
    "n7.ones"
   ]
  },
  {
   "cell_type": "code",
   "execution_count": 11,
   "id": "482eb261-ff89-4fad-b658-9d8f5d64daab",
   "metadata": {},
   "outputs": [
    {
     "data": {
      "text/plain": [
       "1"
      ]
     },
     "execution_count": 11,
     "metadata": {},
     "output_type": "execute_result"
    }
   ],
   "source": [
    "n6.nines"
   ]
  },
  {
   "cell_type": "code",
   "execution_count": 12,
   "id": "8877a713-8203-49fa-8e29-8bb219a08095",
   "metadata": {},
   "outputs": [
    {
     "data": {
      "text/plain": [
       "1"
      ]
     },
     "execution_count": 12,
     "metadata": {},
     "output_type": "execute_result"
    }
   ],
   "source": [
    "n5.threes"
   ]
  },
  {
   "cell_type": "code",
   "execution_count": 13,
   "id": "38ddf10a-3e32-4633-a175-df33fdbfee55",
   "metadata": {},
   "outputs": [
    {
     "data": {
      "text/plain": [
       "3"
      ]
     },
     "execution_count": 13,
     "metadata": {},
     "output_type": "execute_result"
    }
   ],
   "source": [
    "n4.ones"
   ]
  },
  {
   "cell_type": "code",
   "execution_count": 14,
   "id": "38ef77f3-7f22-4058-bcd8-c05826126e7c",
   "metadata": {},
   "outputs": [
    {
     "data": {
      "text/plain": [
       "0"
      ]
     },
     "execution_count": 14,
     "metadata": {},
     "output_type": "execute_result"
    }
   ],
   "source": [
    "n3.nines"
   ]
  },
  {
   "cell_type": "code",
   "execution_count": 15,
   "id": "d642c7b6-62af-4743-9c46-2b6d96119f87",
   "metadata": {},
   "outputs": [
    {
     "data": {
      "text/plain": [
       "0"
      ]
     },
     "execution_count": 15,
     "metadata": {},
     "output_type": "execute_result"
    }
   ],
   "source": [
    "n2.threes"
   ]
  },
  {
   "cell_type": "code",
   "execution_count": 16,
   "id": "d29b092f-ea5a-4202-98e3-95a6fc69c555",
   "metadata": {},
   "outputs": [
    {
     "data": {
      "text/plain": [
       "0"
      ]
     },
     "execution_count": 16,
     "metadata": {},
     "output_type": "execute_result"
    }
   ],
   "source": [
    "n1.ones"
   ]
  },
  {
   "cell_type": "code",
   "execution_count": 17,
   "id": "5193d0b7-bed3-4531-b5cc-66d7b16768aa",
   "metadata": {},
   "outputs": [],
   "source": [
    "class User():\n",
    "    user_count = 0\n",
    "    def __init__(self, id):\n",
    "        self.id = id\n",
    "        User.user_count += 1\n"
   ]
  },
  {
   "cell_type": "code",
   "execution_count": 18,
   "id": "7e78c18f-6fd5-4af0-ac2d-f6ee9cfbd04c",
   "metadata": {},
   "outputs": [
    {
     "ename": "UnboundLocalError",
     "evalue": "cannot access local variable 'user_count' where it is not associated with a value",
     "output_type": "error",
     "traceback": [
      "\u001b[1;31m---------------------------------------------------------------------------\u001b[0m",
      "\u001b[1;31mUnboundLocalError\u001b[0m                         Traceback (most recent call last)",
      "Cell \u001b[1;32mIn[18], line 1\u001b[0m\n\u001b[1;32m----> 1\u001b[0m u1 \u001b[38;5;241m=\u001b[39m \u001b[43mUser\u001b[49m\u001b[43m(\u001b[49m\u001b[38;5;124;43m\"\u001b[39;49m\u001b[38;5;124;43mjohnsmith10\u001b[39;49m\u001b[38;5;124;43m\"\u001b[39;49m\u001b[43m)\u001b[49m\n",
      "Cell \u001b[1;32mIn[17], line 5\u001b[0m, in \u001b[0;36mUser.__init__\u001b[1;34m(self, id)\u001b[0m\n\u001b[0;32m      3\u001b[0m \u001b[38;5;28;01mdef\u001b[39;00m \u001b[38;5;21m__init__\u001b[39m(\u001b[38;5;28mself\u001b[39m, \u001b[38;5;28mid\u001b[39m):\n\u001b[0;32m      4\u001b[0m     \u001b[38;5;28mself\u001b[39m\u001b[38;5;241m.\u001b[39mid \u001b[38;5;241m=\u001b[39m \u001b[38;5;28mid\u001b[39m\n\u001b[1;32m----> 5\u001b[0m     \u001b[43muser_count\u001b[49m \u001b[38;5;241m+\u001b[39m\u001b[38;5;241m=\u001b[39m \u001b[38;5;241m1\u001b[39m\n",
      "\u001b[1;31mUnboundLocalError\u001b[0m: cannot access local variable 'user_count' where it is not associated with a value"
     ]
    }
   ],
   "source": [
    "u1 = User(\"johnsmith10\")"
   ]
  },
  {
   "cell_type": "code",
   "execution_count": null,
   "id": "d35a40e7-c3f5-4e11-b391-20415ee91edd",
   "metadata": {},
   "outputs": [],
   "source": []
  }
 ],
 "metadata": {
  "kernelspec": {
   "display_name": "Python 3 (ipykernel)",
   "language": "python",
   "name": "python3"
  },
  "language_info": {
   "codemirror_mode": {
    "name": "ipython",
    "version": 3
   },
   "file_extension": ".py",
   "mimetype": "text/x-python",
   "name": "python",
   "nbconvert_exporter": "python",
   "pygments_lexer": "ipython3",
   "version": "3.12.2"
  }
 },
 "nbformat": 4,
 "nbformat_minor": 5
}
